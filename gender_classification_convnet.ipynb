{
 "cells": [
  {
   "cell_type": "markdown",
   "metadata": {},
   "source": [
    "# Gender classification"
   ]
  },
  {
   "cell_type": "markdown",
   "metadata": {},
   "source": [
    "## Import required packages"
   ]
  },
  {
   "cell_type": "code",
   "execution_count": 2,
   "metadata": {},
   "outputs": [],
   "source": [
    "%matplotlib inline\n",
    "import matplotlib.pyplot as plt\n",
    "from sklearn.utils import shuffle\n",
    "import numpy as np\n",
    "import tensorflow as tf\n",
    "import os,glob,cv2\n",
    "import sys,argparse\n",
    "\n",
    "import time\n",
    "from datetime import timedelta\n",
    "import math\n",
    "import random"
   ]
  },
  {
   "cell_type": "markdown",
   "metadata": {},
   "source": [
    "## Load dataset"
   ]
  },
  {
   "cell_type": "code",
   "execution_count": 3,
   "metadata": {},
   "outputs": [],
   "source": [
    "def load_data(data_path, image_size, classes):\n",
    "    train_images = []\n",
    "    train_labels = []\n",
    "    \n",
    "    test_images = []\n",
    "    test_labels = []\n",
    "    \n",
    "    if ('/train' in data_path):\n",
    "        for gender_fields in classes:   \n",
    "            index = classes.index(gender_fields) # classes = ['male', 'female']\n",
    "            path = os.path.join(data_path, gender_fields, '*.jpg')\n",
    "\n",
    "            files = glob.glob(path)\n",
    "\n",
    "            for fl in files[:12500]: #25000 train datas\n",
    "                image = cv2.imread(fl)\n",
    "                image = cv2.resize(image, (image_size, image_size),0,0, cv2.INTER_LINEAR)\n",
    "                image = image.astype(np.float32)\n",
    "\n",
    "                # Standardize data to have feature values between 0 and 1. \n",
    "                # To do this flatten the data first and divide by 255, or Use elementwise product(no flattening)\n",
    "                image = np.multiply(image, 1.0 / 255.0)\n",
    "\n",
    "                train_images.append(image)\n",
    "\n",
    "                label = np.zeros(len(classes))\n",
    "                label[index] = 1\n",
    "                train_labels.append(label)\n",
    "\n",
    "        train_images = np.array(train_images)\n",
    "        train_labels = np.array(train_labels)\n",
    "\n",
    "        return train_images, train_labels\n",
    "    \n",
    "    elif ('/test' in data_path):\n",
    "        for gender_fields in classes:   \n",
    "            index = classes.index(gender_fields) # classes = ['male', 'female']\n",
    "            path = os.path.join(data_path, gender_fields, '*.jpg')\n",
    "\n",
    "            files = glob.glob(path)\n",
    "\n",
    "            for fl in files[:2500]: #5000 test data\n",
    "                image = cv2.imread(fl)\n",
    "                image = cv2.resize(image, (image_size, image_size),0,0, cv2.INTER_LINEAR)\n",
    "                image = image.astype(np.float32)\n",
    "\n",
    "                # Standardize data to have feature values between 0 and 1. \n",
    "                # Flatten the data first and divide by 255, or use elementwise product(no flattening)\n",
    "                image = np.multiply(image, 1.0 / 255.0)\n",
    "\n",
    "                test_images.append(image)\n",
    "\n",
    "                label = np.zeros(len(classes))\n",
    "                label[index] = 1\n",
    "                test_labels.append(label)\n",
    "\n",
    "        test_images = np.array(test_images)\n",
    "        test_labels = np.array(test_labels)\n",
    "\n",
    "        return test_images, test_labels\n",
    "    else:\n",
    "        return None"
   ]
  },
  {
   "cell_type": "markdown",
   "metadata": {},
   "source": [
    "### Helper function to manipulate and read the dataset"
   ]
  },
  {
   "cell_type": "code",
   "execution_count": 4,
   "metadata": {},
   "outputs": [],
   "source": [
    "class ImageDataSet(object):\n",
    "    def __init__(self, images, image_labels):\n",
    "        self._num_images = images.shape[0]\n",
    "\n",
    "        self._images = images\n",
    "        self._image_labels = image_labels\n",
    "        self._epochs_done = 0\n",
    "        self._index_in_epoch = 0\n",
    "    \n",
    "    @property\n",
    "    def images(self):\n",
    "        return self._images\n",
    "\n",
    "    @property\n",
    "    def labels(self):\n",
    "        return self._image_labels\n",
    "\n",
    "    @property\n",
    "    def num_examples(self):\n",
    "        return self._num_images\n",
    "\n",
    "    @property\n",
    "    def epochs_done(self):\n",
    "        return self._epochs_done\n",
    "\n",
    "    def next_batch(self, batch_size):\n",
    "        start = self._index_in_epoch\n",
    "        self._index_in_epoch += batch_size\n",
    "\n",
    "        if self._index_in_epoch > self._num_images:\n",
    "            self._epochs_done += 1\n",
    "            start = 0\n",
    "            self._index_in_epoch = batch_size\n",
    "        assert batch_size <= self._num_images\n",
    "        end = self._index_in_epoch\n",
    "\n",
    "        return self._images[start:end], self._image_labels[start:end]\n"
   ]
  },
  {
   "cell_type": "code",
   "execution_count": 5,
   "metadata": {},
   "outputs": [],
   "source": [
    "def read_train_sets(train_path, image_size, classes, validation_size):\n",
    "    train_images, train_labels = load_data(train_path, image_size, classes)\n",
    "    train_images, train_labels = shuffle(train_images, train_labels)  \n",
    "\n",
    "    if isinstance(validation_size, float):\n",
    "        validation_size = int(validation_size * train_images.shape[0])\n",
    "\n",
    "    validation_images = train_images[:validation_size]\n",
    "    validation_labels = train_labels[:validation_size]\n",
    "\n",
    "    train_images = train_images[validation_size:]\n",
    "    train_labels = train_labels[validation_size:]\n",
    "\n",
    "    train_sets = ImageDataSet(train_images, train_labels)\n",
    "    valid_sets = ImageDataSet(validation_images, validation_labels)\n",
    "\n",
    "    return train_sets, valid_sets"
   ]
  },
  {
   "cell_type": "code",
   "execution_count": 6,
   "metadata": {},
   "outputs": [],
   "source": [
    "def read_test_sets(test_path, image_size, classes):\n",
    "    test_images, test_labels = load_data(test_path, image_size, classes)\n",
    "    test_images, test_labels = shuffle(test_images, test_labels)  \n",
    "\n",
    "    test_sets = ImageDataSet(test_images, test_labels)\n",
    "    \n",
    "    return test_sets"
   ]
  },
  {
   "cell_type": "markdown",
   "metadata": {},
   "source": [
    "## The Model"
   ]
  },
  {
   "cell_type": "code",
   "execution_count": 7,
   "metadata": {},
   "outputs": [],
   "source": [
    "#Adding Seed so that random initialization is consistent\n",
    "from numpy.random import seed\n",
    "seed(1)\n",
    "from tensorflow import set_random_seed\n",
    "set_random_seed(2)"
   ]
  },
  {
   "cell_type": "code",
   "execution_count": 8,
   "metadata": {},
   "outputs": [
    {
     "name": "stdout",
     "output_type": "stream",
     "text": [
      "Complete reading input data. Will Now print a snippet of it\n",
      "Number of files in Training-set : 24000\n",
      "Number of files in Validation-set:1000\n",
      "Number of files in Test-set : 5000\n"
     ]
    }
   ],
   "source": [
    "batch_size = 32\n",
    "\n",
    "#Prepare input data\n",
    "classes = ['m','f']\n",
    "num_classes = len(classes)\n",
    "\n",
    "# 20% of the data will automatically be used for validation\n",
    "validation_size = 0.04\n",
    "img_size = 50\n",
    "num_channels = 3\n",
    "\n",
    "train_path='/home/mele/datasets/gender/train'\n",
    "test_path ='/home/mele/datasets/gender/test'\n",
    "\n",
    "# We shall load all the training and validation images and labels into memory using openCV and use that during training\n",
    "train_data, valid_data = read_train_sets(train_path, img_size, classes, validation_size=validation_size)\n",
    "test_data = read_test_sets(test_path, img_size, classes)\n",
    "\n",
    "print(\"Complete reading input data. Will Now print a snippet of it\")\n",
    "print(\"Number of files in Training-set : {}\".format(len(train_data.labels)))\n",
    "print(\"Number of files in Validation-set:{}\".format(len(valid_data.labels)))\n",
    "print(\"Number of files in Test-set : {}\".format(len(test_data.labels)))\n"
   ]
  },
  {
   "cell_type": "markdown",
   "metadata": {},
   "source": [
    "## Plot sample images"
   ]
  },
  {
   "cell_type": "code",
   "execution_count": 9,
   "metadata": {},
   "outputs": [],
   "source": [
    "#Take random 24 images ans see their true label\n",
    "\n",
    "def plot_images(images, cls_true, cls_pred = None):\n",
    "    assert len(images) == len(cls_true) == 24\n",
    "\n",
    "    # Create a figure with 4 x 6 subclass\n",
    "    fig, axes = plt.subplots(4, 6)\n",
    "    fig.subplots_adjust(hspace = 0.1, wspace = 0.9)\n",
    "\n",
    "    for i, ax in enumerate(axes.flat):\n",
    "        # Plot the image\n",
    "        ax.imshow(images[i])\n",
    "\n",
    "        # Show true and predicted classes\n",
    "        if cls_pred is None:\n",
    "            xlabel = \"{0}\".format(classes[int(cls_true[i][1])])\n",
    "        else:\n",
    "            xlabel = \"True: {0} , Pred: {1}\".format(cls_true[i], cls_pred[i])\n",
    "\n",
    "        ax.set_xlabel(xlabel)\n",
    "\n",
    "        # Remove ticks from the plot\n",
    "\n",
    "        ax.set_xticks([])\n",
    "        ax.set_yticks([])"
   ]
  },
  {
   "cell_type": "code",
   "execution_count": 10,
   "metadata": {},
   "outputs": [
    {
     "data": {
      "image/png": "[encoded data removed]",
      "text/plain": [
       "<Figure size 432x288 with 24 Axes>"
      ]
     },
     "metadata": {},
     "output_type": "display_data"
    }
   ],
   "source": [
    "#first 10 images from the test_set\n",
    "images = test_data.images[:24]\n",
    "\n",
    "#True classes for images\n",
    "cls_true = test_data.labels[:24]\n",
    "\n",
    "# [0, 1] corresponds to femaleness, [male = 0, female] and [1, 0] maleness, [male, female=0] \n",
    "plot_images(images = images, cls_true = cls_true)\n",
    "plt.show()"
   ]
  },
  {
   "cell_type": "markdown",
   "metadata": {},
   "source": [
    "## Run Tensorflow"
   ]
  },
  {
   "cell_type": "code",
   "execution_count": 11,
   "metadata": {},
   "outputs": [],
   "source": [
    "session = tf.Session()\n",
    "x = tf.placeholder(tf.float32, shape=[None, img_size,img_size,num_channels], name='x')\n",
    "\n",
    "## labels\n",
    "y_true = tf.placeholder(tf.float32, shape=[None, num_classes], name='y_true')\n",
    "y_true_cls = tf.argmax(y_true, axis=1)\n"
   ]
  },
  {
   "cell_type": "code",
   "execution_count": 12,
   "metadata": {},
   "outputs": [],
   "source": [
    "## Network graph params\n",
    "filter_size_conv1 = 3 \n",
    "num_filters_conv1 = 16\n",
    "\n",
    "filter_size_conv2 = 3\n",
    "num_filters_conv2 = 32\n",
    "\n",
    "filter_size_conv3 = 3\n",
    "num_filters_conv3 = 64\n",
    "    \n",
    "fc_layer_size = 128"
   ]
  },
  {
   "cell_type": "markdown",
   "metadata": {},
   "source": [
    "## model variables to be optimized"
   ]
  },
  {
   "cell_type": "code",
   "execution_count": 13,
   "metadata": {},
   "outputs": [],
   "source": [
    "def new_weights(shape):\n",
    "    return tf.Variable(tf.truncated_normal(shape, stddev=0.05))\n",
    "\n",
    "def new_biases(length):\n",
    "    return tf.Variable(tf.constant(0.05, shape=[length]))\n"
   ]
  },
  {
   "cell_type": "markdown",
   "metadata": {},
   "source": [
    "## Convolutional networks"
   ]
  },
  {
   "cell_type": "code",
   "execution_count": 14,
   "metadata": {},
   "outputs": [],
   "source": [
    "def new_convolutional_layer(input,              # The previous layer\n",
    "                            num_input_channels, # Num Channels in prev layer\n",
    "                            conv_filter_size,   # Width and height of each filter\n",
    "                            num_filters,        # Number of filters\n",
    "                            use_pooling=True):  # Use 2x2 max-pooling):  \n",
    "    \n",
    "    # Shape the filter weights 4conv. \n",
    "    shape = [conv_filter_size, conv_filter_size, num_input_channels, num_filters]\n",
    "    \n",
    "    #create new weights\n",
    "    weights = new_weights(shape=shape)\n",
    "    \n",
    "    #create new biases\n",
    "    biases = new_biases(length = num_filters)\n",
    "\n",
    "    # Tensorflow operation for convolution\n",
    "    # The first and last strides must always set to 1, bc are for image-number and input-channel respectively, \n",
    "    # but here I set the strides all 1\n",
    "    layer = tf.nn.conv2d(input=input,\n",
    "                         filter=weights,\n",
    "                         strides=[1, 1, 1, 1],\n",
    "                         padding='SAME')\n",
    "\n",
    "    # Add bias to the results of the convolution, to each filter channel\n",
    "    layer += biases\n",
    "\n",
    "    # Use filter to down sample the image resolution\n",
    "    if use_pooling:\n",
    "        # 2x2 max pooling\n",
    "        layer = tf.nn.max_pool(value=layer, \n",
    "                               ksize=[1, 2, 2, 1], \n",
    "                               strides=[1, 2, 2, 1], \n",
    "                               padding='SAME')\n",
    "        \n",
    "    # ReLU activation fun, calculates max(x, 0) for each input channel x, => adds some linearity.     \n",
    "    layer = tf.nn.relu(layer)\n",
    "    \n",
    "    # Note ReLU normally excuted before pooling but, relu(max_pool(x) == max_pool(relu(x)))\n",
    "\n",
    "#     return layer, weights\n",
    "    return layer"
   ]
  },
  {
   "cell_type": "markdown",
   "metadata": {},
   "source": [
    "## Helper Functions for flattening a layer"
   ]
  },
  {
   "cell_type": "code",
   "execution_count": 15,
   "metadata": {},
   "outputs": [],
   "source": [
    "def flatten_layer(layer):\n",
    "    # Get shape of input layer from previous layer\n",
    "    layer_shape = layer.get_shape()\n",
    "    \n",
    "    #expected 2be layer_shape == [num_images, img_width, img_height, num_channels] num_images = batch_size\n",
    "    \n",
    "    # num_features is img_width * img_height * num_channels\n",
    "    # Shape uses tensorflow datatype, so convert it to numpy\n",
    "    num_features = np.array(layer_shape[1:4], dtype=int).prod()\n",
    "    # num_features = layer_shape[1:4].num_elements()\n",
    "        \n",
    "    # Reshape the layer to [num_images, num_features]\n",
    "    # The first dim is set to -1 wh means the size in that dimension is calculated, so z total size of tensor\n",
    "    # is unchanged from the reshaping\n",
    "    layer_flat = tf.reshape(layer, [-1, num_features])\n",
    "    \n",
    "#     return layer_flat, num_features\n",
    "    return layer_flat\n"
   ]
  },
  {
   "cell_type": "markdown",
   "metadata": {},
   "source": [
    "## Helper Functions for creating fully connected layers"
   ]
  },
  {
   "cell_type": "code",
   "execution_count": 16,
   "metadata": {},
   "outputs": [],
   "source": [
    "def create_fc_layer(input,    # The previous layer\n",
    "                 num_inputs,    # num inputs from the prev layer\n",
    "                 num_outputs,     # num outputs\n",
    "                 use_relu = True):  # Use relu?\n",
    "    \n",
    "    #Define trainable weights and biases.\n",
    "    weights = new_weights(shape=[num_inputs, num_outputs])\n",
    "    biases = new_biases(num_outputs)\n",
    "\n",
    "    # Fully connected layer takes input x and produces wx+b.Since, these are matrices, we use matmul function in Tensorflow\n",
    "    layer = tf.matmul(input, weights) + biases\n",
    "    \n",
    "    # Use relu:\n",
    "    if use_relu:\n",
    "        layer = tf.nn.relu(layer)\n",
    "        \n",
    "    return layer"
   ]
  },
  {
   "cell_type": "code",
   "execution_count": 17,
   "metadata": {},
   "outputs": [],
   "source": [
    "layer_conv1 = new_convolutional_layer(input=x,\n",
    "                                         num_input_channels=num_channels,\n",
    "                                         conv_filter_size=filter_size_conv1,\n",
    "                                         num_filters=num_filters_conv1)"
   ]
  },
  {
   "cell_type": "markdown",
   "metadata": {},
   "source": [
    "Check layer shape be (?, 32, 132, 16) which means that there is an arbitrary number of\n",
    "images (this is the ?), each image is 32 pixels wide and 32 pixels high, and there are 16 different channels, one channel for each of the filte"
   ]
  },
  {
   "cell_type": "code",
   "execution_count": 18,
   "metadata": {},
   "outputs": [
    {
     "data": {
      "text/plain": [
       "<tf.Tensor 'Relu:0' shape=(?, 25, 25, 16) dtype=float32>"
      ]
     },
     "execution_count": 18,
     "metadata": {},
     "output_type": "execute_result"
    }
   ],
   "source": [
    "layer_conv1"
   ]
  },
  {
   "cell_type": "code",
   "execution_count": 19,
   "metadata": {},
   "outputs": [],
   "source": [
    "layer_conv2 = new_convolutional_layer(input=layer_conv1,\n",
    "               num_input_channels=num_filters_conv1,\n",
    "               conv_filter_size=filter_size_conv2,\n",
    "               num_filters=num_filters_conv2)\n",
    "\n",
    "layer_conv3= new_convolutional_layer(input=layer_conv2,\n",
    "               num_input_channels=num_filters_conv2,\n",
    "               conv_filter_size=filter_size_conv3,\n",
    "               num_filters=num_filters_conv3)"
   ]
  },
  {
   "cell_type": "code",
   "execution_count": 20,
   "metadata": {},
   "outputs": [
    {
     "data": {
      "text/plain": [
       "<tf.Tensor 'Relu_1:0' shape=(?, 13, 13, 32) dtype=float32>"
      ]
     },
     "execution_count": 20,
     "metadata": {},
     "output_type": "execute_result"
    }
   ],
   "source": [
    "layer_conv2"
   ]
  },
  {
   "cell_type": "code",
   "execution_count": 21,
   "metadata": {},
   "outputs": [
    {
     "data": {
      "text/plain": [
       "<tf.Tensor 'Relu_2:0' shape=(?, 7, 7, 64) dtype=float32>"
      ]
     },
     "execution_count": 21,
     "metadata": {},
     "output_type": "execute_result"
    }
   ],
   "source": [
    "layer_conv3"
   ]
  },
  {
   "cell_type": "code",
   "execution_count": 22,
   "metadata": {},
   "outputs": [],
   "source": [
    "layer_flat = flatten_layer(layer_conv3)"
   ]
  },
  {
   "cell_type": "code",
   "execution_count": 23,
   "metadata": {},
   "outputs": [
    {
     "data": {
      "text/plain": [
       "<tf.Tensor 'Reshape:0' shape=(?, 3136) dtype=float32>"
      ]
     },
     "execution_count": 23,
     "metadata": {},
     "output_type": "execute_result"
    }
   ],
   "source": [
    "layer_flat"
   ]
  },
  {
   "cell_type": "code",
   "execution_count": 24,
   "metadata": {},
   "outputs": [],
   "source": [
    "layer_fc1 = create_fc_layer(input=layer_flat,\n",
    "                     num_inputs=layer_flat.get_shape()[1:4].num_elements(),\n",
    "                     num_outputs=fc_layer_size,\n",
    "                     use_relu=True)\n",
    "\n",
    "layer_fc2 = create_fc_layer(input=layer_fc1,\n",
    "                     num_inputs=fc_layer_size,\n",
    "                     num_outputs=num_classes,\n",
    "                     use_relu=False) "
   ]
  },
  {
   "cell_type": "code",
   "execution_count": 25,
   "metadata": {},
   "outputs": [
    {
     "data": {
      "text/plain": [
       "<tf.Tensor 'Relu_3:0' shape=(?, 128) dtype=float32>"
      ]
     },
     "execution_count": 25,
     "metadata": {},
     "output_type": "execute_result"
    }
   ],
   "source": [
    "layer_fc1"
   ]
  },
  {
   "cell_type": "code",
   "execution_count": 26,
   "metadata": {},
   "outputs": [
    {
     "data": {
      "text/plain": [
       "<tf.Tensor 'add_4:0' shape=(?, 2) dtype=float32>"
      ]
     },
     "execution_count": 26,
     "metadata": {},
     "output_type": "execute_result"
    }
   ],
   "source": [
    "layer_fc2"
   ]
  },
  {
   "cell_type": "code",
   "execution_count": 27,
   "metadata": {},
   "outputs": [],
   "source": [
    "y_pred = tf.nn.softmax(layer_fc2,name='y_pred')\n",
    "\n",
    "y_pred_cls = tf.argmax(y_pred, axis=1)\n",
    "\n",
    "session.run(tf.global_variables_initializer())\n"
   ]
  },
  {
   "cell_type": "markdown",
   "metadata": {},
   "source": [
    "## Cost Functions to be optimized"
   ]
  },
  {
   "cell_type": "code",
   "execution_count": 28,
   "metadata": {},
   "outputs": [],
   "source": [
    "cross_entropy = tf.nn.softmax_cross_entropy_with_logits_v2(logits=layer_fc2,\n",
    "                                                           labels=y_true)\n",
    "cost = tf.reduce_mean(cross_entropy)\n",
    "\n",
    "optimizer = tf.train.AdamOptimizer(learning_rate=1e-4).minimize(cost)"
   ]
  },
  {
   "cell_type": "markdown",
   "metadata": {},
   "source": [
    "## Performance measure"
   ]
  },
  {
   "cell_type": "code",
   "execution_count": 29,
   "metadata": {},
   "outputs": [],
   "source": [
    "correct_prediction = tf.equal(y_pred_cls, y_true_cls)\n",
    "\n",
    "accuracy = tf.reduce_mean(tf.cast(correct_prediction, tf.float32))\n",
    "\n",
    "session.run(tf.global_variables_initializer()) "
   ]
  },
  {
   "cell_type": "code",
   "execution_count": 30,
   "metadata": {},
   "outputs": [],
   "source": [
    "def show_progress(epoch, feed_dict_train, feed_dict_validate, val_loss):\n",
    "    acc = session.run(accuracy, feed_dict=feed_dict_train)\n",
    "    val_acc = session.run(accuracy, feed_dict=feed_dict_validate)\n",
    "    msg = \"Training Epoch {0} --- Training Accuracy: {1:>6.1%}, Validation Accuracy: {2:>6.1%},  Validation Loss: {3:.3f}\"\n",
    "    print(msg.format(epoch + 1, acc, val_acc, val_loss))\n"
   ]
  },
  {
   "cell_type": "markdown",
   "metadata": {},
   "source": [
    "## Perform optimization"
   ]
  },
  {
   "cell_type": "code",
   "execution_count": 61,
   "metadata": {},
   "outputs": [],
   "source": [
    "# Counter for total number of iterations performed so far.\n",
    "total_iterations = 0\n",
    "\n",
    "saver = tf.train.Saver()\n",
    "\n",
    "def train(num_iteration):\n",
    "    global total_iterations\n",
    "    \n",
    "    for i in range(total_iterations, total_iterations + num_iteration):\n",
    "\n",
    "        x_batch, y_true_batch = train_data.next_batch(batch_size)\n",
    "        x_valid_batch, y_valid_batch = valid_data.next_batch(batch_size)\n",
    "\n",
    "        \n",
    "        feed_dict_tr = {x: x_batch,\n",
    "                        y_true: y_true_batch\n",
    "                       }\n",
    "        \n",
    "        feed_dict_val = {x: x_valid_batch,\n",
    "                         y_true: y_valid_batch\n",
    "                        }\n",
    "\n",
    "        session.run(optimizer, feed_dict=feed_dict_tr)\n",
    "\n",
    "        if i % int(train_data.num_examples/batch_size) == 0: \n",
    "            val_loss = session.run(cost, feed_dict=feed_dict_val)\n",
    "            epoch = int(i / int(train_data.num_examples/batch_size))    \n",
    "            \n",
    "            show_progress(epoch, feed_dict_tr, feed_dict_val, val_loss)\n",
    "#             saver.save(session, 'female-male-model') \n",
    "\n",
    "        total_iterations += num_iteration"
   ]
  },
  {
   "cell_type": "markdown",
   "metadata": {},
   "source": [
    "### See the training accuracy\n",
    "train(num_iteration=1)\n",
    "\n",
    "train(num_iteration=99)\n",
    "\n",
    "train(num_iteration=900)\n",
    "\n",
    "train(num_iteration=10000)"
   ]
  },
  {
   "cell_type": "code",
   "execution_count": 53,
   "metadata": {},
   "outputs": [
    {
     "name": "stdout",
     "output_type": "stream",
     "text": [
      "Training Epoch 1 --- Training Accuracy:  65.6%, Validation Accuracy:  62.5%,  Validation Loss: 0.609\n"
     ]
    }
   ],
   "source": [
    "train(num_iteration = 1)"
   ]
  },
  {
   "cell_type": "code",
   "execution_count": 56,
   "metadata": {},
   "outputs": [
    {
     "name": "stdout",
     "output_type": "stream",
     "text": [
      "Training Epoch 1 --- Training Accuracy:  71.9%, Validation Accuracy:  56.2%,  Validation Loss: 0.635\n"
     ]
    }
   ],
   "source": [
    "train(num_iteration=99)"
   ]
  },
  {
   "cell_type": "code",
   "execution_count": 58,
   "metadata": {},
   "outputs": [
    {
     "name": "stdout",
     "output_type": "stream",
     "text": [
      "Training Epoch 1 --- Training Accuracy:  62.5%, Validation Accuracy:  59.4%,  Validation Loss: 0.672\n",
      "Training Epoch 2 --- Training Accuracy:  78.1%, Validation Accuracy:  75.0%,  Validation Loss: 0.596\n"
     ]
    }
   ],
   "source": [
    "train(num_iteration=900)"
   ]
  },
  {
   "cell_type": "code",
   "execution_count": 60,
   "metadata": {},
   "outputs": [
    {
     "name": "stdout",
     "output_type": "stream",
     "text": [
      "Training Epoch 1 --- Training Accuracy:  68.8%, Validation Accuracy:  53.1%,  Validation Loss: 0.756\n",
      "Training Epoch 2 --- Training Accuracy:  71.9%, Validation Accuracy:  59.4%,  Validation Loss: 0.651\n",
      "Training Epoch 3 --- Training Accuracy:  75.0%, Validation Accuracy:  71.9%,  Validation Loss: 0.582\n",
      "Training Epoch 4 --- Training Accuracy:  75.0%, Validation Accuracy:  68.8%,  Validation Loss: 0.603\n",
      "Training Epoch 5 --- Training Accuracy:  75.0%, Validation Accuracy:  62.5%,  Validation Loss: 0.640\n",
      "Training Epoch 6 --- Training Accuracy:  75.0%, Validation Accuracy:  71.9%,  Validation Loss: 0.655\n",
      "Training Epoch 7 --- Training Accuracy:  75.0%, Validation Accuracy:  81.2%,  Validation Loss: 0.575\n",
      "Training Epoch 8 --- Training Accuracy:  75.0%, Validation Accuracy:  68.8%,  Validation Loss: 0.660\n",
      "Training Epoch 9 --- Training Accuracy:  75.0%, Validation Accuracy:  75.0%,  Validation Loss: 0.529\n",
      "Training Epoch 10 --- Training Accuracy:  75.0%, Validation Accuracy:  65.6%,  Validation Loss: 0.729\n",
      "Training Epoch 11 --- Training Accuracy:  75.0%, Validation Accuracy:  62.5%,  Validation Loss: 0.793\n",
      "Training Epoch 12 --- Training Accuracy:  75.0%, Validation Accuracy:  78.1%,  Validation Loss: 0.645\n"
     ]
    }
   ],
   "source": [
    "train(num_iteration=9000)"
   ]
  },
  {
   "cell_type": "code",
   "execution_count": 62,
   "metadata": {},
   "outputs": [
    {
     "name": "stdout",
     "output_type": "stream",
     "text": [
      "Training Epoch 1 --- Training Accuracy:  78.1%, Validation Accuracy:  62.5%,  Validation Loss: 0.739\n",
      "Training Epoch 2 --- Training Accuracy:  78.1%, Validation Accuracy:  78.1%,  Validation Loss: 0.529\n",
      "Training Epoch 3 --- Training Accuracy:  78.1%, Validation Accuracy:  65.6%,  Validation Loss: 0.550\n",
      "Training Epoch 4 --- Training Accuracy:  78.1%, Validation Accuracy:  53.1%,  Validation Loss: 0.677\n",
      "Training Epoch 5 --- Training Accuracy:  81.2%, Validation Accuracy:  78.1%,  Validation Loss: 0.522\n",
      "Training Epoch 6 --- Training Accuracy:  81.2%, Validation Accuracy:  62.5%,  Validation Loss: 0.610\n",
      "Training Epoch 7 --- Training Accuracy:  84.4%, Validation Accuracy:  68.8%,  Validation Loss: 0.520\n",
      "Training Epoch 8 --- Training Accuracy:  84.4%, Validation Accuracy:  78.1%,  Validation Loss: 0.483\n",
      "Training Epoch 9 --- Training Accuracy:  84.4%, Validation Accuracy:  75.0%,  Validation Loss: 0.485\n",
      "Training Epoch 10 --- Training Accuracy:  84.4%, Validation Accuracy:  71.9%,  Validation Loss: 0.715\n",
      "Training Epoch 11 --- Training Accuracy:  84.4%, Validation Accuracy:  78.1%,  Validation Loss: 0.646\n",
      "Training Epoch 12 --- Training Accuracy:  81.2%, Validation Accuracy:  62.5%,  Validation Loss: 0.751\n",
      "Training Epoch 13 --- Training Accuracy:  84.4%, Validation Accuracy:  62.5%,  Validation Loss: 0.751\n",
      "Training Epoch 14 --- Training Accuracy:  84.4%, Validation Accuracy:  62.5%,  Validation Loss: 0.796\n",
      "Training Epoch 15 --- Training Accuracy:  84.4%, Validation Accuracy:  75.0%,  Validation Loss: 0.560\n",
      "Training Epoch 16 --- Training Accuracy:  81.2%, Validation Accuracy:  59.4%,  Validation Loss: 0.696\n"
     ]
    }
   ],
   "source": [
    "train(num_iteration=12000)"
   ]
  },
  {
   "cell_type": "code",
   "execution_count": null,
   "metadata": {},
   "outputs": [],
   "source": []
  }
 ],
 "metadata": {
  "kernelspec": {
   "display_name": "Python 3",
   "language": "python",
   "name": "python3"
  },
  "language_info": {
   "codemirror_mode": {
    "name": "ipython",
    "version": 3
   },
   "file_extension": ".py",
   "mimetype": "text/x-python",
   "name": "python",
   "nbconvert_exporter": "python",
   "pygments_lexer": "ipython3",
   "version": "3.5.2"
  }
 },
 "nbformat": 4,
 "nbformat_minor": 2
}
