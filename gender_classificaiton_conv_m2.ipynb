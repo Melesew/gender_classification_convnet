{
 "cells": [
  {
   "cell_type": "markdown",
   "metadata": {
    "collapsed": true
   },
   "source": [
    "# Full gender classification run with Convolutional Neural Network #\n",
    "\n",
    "Taking raw images that have been labeled for us already in folders, and then feeding them through a convolutional neural network for classification. \n"
   ]
  },
  {
   "cell_type": "markdown",
   "metadata": {
    "scrolled": true
   },
   "source": [
    "# Part 1 - Preprocessing\n",
    "\n",
    "Raw images can't exactly just stuff right through the convolutional neural network. So the dataset has to be preprocced first as :\n",
    "\n",
    "    -> All of the images to be the same size, and probably wanted to be just grayscaled.\n",
    "    \n",
    "    -> Also, the labels of \"female\" and \"male\" are not useful, so want them to be one-hot arrays. \n",
    "\n",
    "\n",
    "<h4>Package Requirements</h4>\n",
    "\n",
    "numpy (pip install numpy)\n",
    "\n",
    "tqdm (pip install tqdm)\n",
    "\n",
    "Tensorflow \n",
    "\n",
    "tflearn\n",
    "\n",
    "First, we'll get our imports and constants for preprocessing:"
   ]
  },
  {
   "cell_type": "code",
   "execution_count": 2,
   "metadata": {
    "scrolled": true
   },
   "outputs": [],
   "source": [
    "import cv2                 # 4 resizing, images\n",
    "import numpy as np         # dealing with arrays\n",
    "import os                  # dealing with directories\n",
    "from random import shuffle # mixing up or currently ordered data that might lead our network astray in training.\n",
    "import glob\n",
    "\n",
    "# Train and test dataset directories\n",
    "TRAIN_DIR = '/home/mele/datasets/gender/train'\n",
    "TEST_DIR = '/home/mele/datasets/gender/test'\n",
    "\n",
    "# TRAIN_DIR = 'Image_dataset/train'\n",
    "# TEST_DIR = 'Image_dataset/test'\n",
    "\n",
    "IMG_SIZE = 50\n",
    "LR = 1e-3 # learning rate\n",
    "\n",
    "MODEL_NAME = 'gender_classification.model' # just so we remember which saved model is which, sizes must match"
   ]
  },
  {
   "cell_type": "markdown",
   "metadata": {},
   "source": [
    "Now, convert the images and labels to array information sothat it can be easy to go through our network. \n",
    "\n",
    "Helper functions are below\n"
   ]
  },
  {
   "cell_type": "code",
   "execution_count": 3,
   "metadata": {},
   "outputs": [],
   "source": [
    "# Image names are like 'gender/train/f/... .jpg or 'gender/train/m/... .jpg\n",
    " \n",
    "def label_img(img_name):\n",
    "    word_label = '/f/' in img_name\n",
    "    \n",
    "    # conversion to one-hot array [female,male]\n",
    "    \n",
    "    if word_label:      # [female, 0]\n",
    "        return [1,0]\n",
    "    \n",
    "    else:               # [0, male]\n",
    "        return [0,1]"
   ]
  },
  {
   "cell_type": "markdown",
   "metadata": {},
   "source": [
    "Now, we can build another function to fully process the training images and their labels into arrays:"
   ]
  },
  {
   "cell_type": "code",
   "execution_count": 4,
   "metadata": {},
   "outputs": [],
   "source": [
    "def create_train_data():\n",
    "    training_data = []\n",
    "    classes = ['f', 'm']\n",
    "    \n",
    "    for gender_fields in classes:   \n",
    "        path = os.path.join(TRAIN_DIR, gender_fields, '*.jpg')\n",
    "    \n",
    "        files = glob.glob(path)\n",
    "        \n",
    "        for img in files[:12500]: # 25000 files in train_data finally\n",
    "            label = label_img(img)\n",
    "            img = cv2.imread(img,cv2.IMREAD_GRAYSCALE)\n",
    "            img = cv2.resize(img, (IMG_SIZE,IMG_SIZE))\n",
    "            training_data.append([np.array(img),np.array(label)])\n",
    "        shuffle(training_data)\n",
    "    \n",
    "    np.save('Image_dataset/gender_train_data.npy', training_data)\n",
    "    \n",
    "    return training_data"
   ]
  },
  {
   "cell_type": "code",
   "execution_count": 5,
   "metadata": {},
   "outputs": [],
   "source": [
    "def process_test_data():\n",
    "    testing_data = []\n",
    "    classes = ['f', 'm']\n",
    "    \n",
    "    for gender_fields in classes:   \n",
    "        path = os.path.join(TEST_DIR, gender_fields, '*.jpg')\n",
    "    \n",
    "        files = glob.glob(path)\n",
    "        \n",
    "        for img in files[:2500]: # 5000 files for test\n",
    "            label = label_img(img)\n",
    "            img = cv2.imread(img,cv2.IMREAD_GRAYSCALE)\n",
    "            img = cv2.resize(img, (IMG_SIZE,IMG_SIZE))\n",
    "            testing_data.append([np.array(img),np.array(label)])\n",
    "        shuffle(testing_data)\n",
    "    \n",
    "    np.save('Image_dataset/gender_test_data.npy', testing_data)\n",
    "    \n",
    "    return testing_data"
   ]
  },
  {
   "cell_type": "markdown",
   "metadata": {},
   "source": [
    "Now, we can run the training:"
   ]
  },
  {
   "cell_type": "code",
   "execution_count": 6,
   "metadata": {},
   "outputs": [
    {
     "name": "stdout",
     "output_type": "stream",
     "text": [
      "25000\n"
     ]
    }
   ],
   "source": [
    "# train_data = create_train_data()\n",
    "train_data = np.load('Image_dataset/gender_train_data.npy') # If you have already created the dataset\n",
    "\n",
    "print(len(train_data))"
   ]
  },
  {
   "cell_type": "markdown",
   "metadata": {},
   "source": [
    "# Convolutional Neural Network\n",
    "\n",
    "Next, we're ready to define our neural network:"
   ]
  },
  {
   "cell_type": "code",
   "execution_count": 7,
   "metadata": {},
   "outputs": [
    {
     "name": "stderr",
     "output_type": "stream",
     "text": [
      "/usr/local/lib/python3.5/dist-packages/h5py/__init__.py:36: FutureWarning: Conversion of the second argument of issubdtype from `float` to `np.floating` is deprecated. In future, it will be treated as `np.float64 == np.dtype(float).type`.\n",
      "  from ._conv import register_converters as _register_converters\n"
     ]
    },
    {
     "name": "stdout",
     "output_type": "stream",
     "text": [
      "WARNING:tensorflow:From /usr/local/lib/python3.5/dist-packages/tflearn/initializations.py:119: UniformUnitScaling.__init__ (from tensorflow.python.ops.init_ops) is deprecated and will be removed in a future version.\n",
      "Instructions for updating:\n",
      "Use tf.initializers.variance_scaling instead with distribution=uniform to get equivalent behavior.\n",
      "WARNING:tensorflow:From /usr/local/lib/python3.5/dist-packages/tflearn/objectives.py:66: calling reduce_sum (from tensorflow.python.ops.math_ops) with keep_dims is deprecated and will be removed in a future version.\n",
      "Instructions for updating:\n",
      "keep_dims is deprecated, use keepdims instead\n"
     ]
    }
   ],
   "source": [
    "import tflearn\n",
    "from tflearn.layers.conv import conv_2d, max_pool_2d\n",
    "from tflearn.layers.core import input_data, dropout, fully_connected\n",
    "from tflearn.layers.estimator import regression\n",
    "\n",
    "conv_input = input_data(shape=[None, IMG_SIZE, IMG_SIZE, 1], name='input')\n",
    "\n",
    "convnet_1 = conv_2d(conv_input, 32, 5, activation='relu')\n",
    "convnet_layer1 = max_pool_2d(convnet_1, 5)\n",
    "\n",
    "convnet_2 = conv_2d(convnet_layer1, 64, 5, activation='relu')\n",
    "convnet_layer2 = max_pool_2d(convnet_2, 5)\n",
    "\n",
    "convnet_3 = fully_connected(convnet_layer2, 1024, activation='relu')\n",
    "convnet_full = dropout(convnet_3, 0.8)\n",
    "\n",
    "convnet_4 = fully_connected(convnet_full, 2, activation='softmax')\n",
    "\n",
    "convnet_out = regression(convnet_4, optimizer='adam', learning_rate=LR, loss='categorical_crossentropy', name='targets')\n"
   ]
  },
  {
   "cell_type": "code",
   "execution_count": 8,
   "metadata": {},
   "outputs": [],
   "source": [
    "model = tflearn.DNN(convnet_out, tensorboard_dir='log')"
   ]
  },
  {
   "cell_type": "markdown",
   "metadata": {},
   "source": [
    "What we have here is a nice, 2 layered convolutional neural network, with a fully connected layer, and then the output layer. \n",
    "\n",
    "With this convnet let's see how it does with gender images at 50x50 resolution. "
   ]
  },
  {
   "cell_type": "markdown",
   "metadata": {},
   "source": [
    "Save the model after every session, and reloading it if it has a saved version"
   ]
  },
  {
   "cell_type": "code",
   "execution_count": 9,
   "metadata": {},
   "outputs": [],
   "source": [
    "\n",
    "if os.path.exists('{}.meta'.format(MODEL_NAME)):\n",
    "    model.load(MODEL_NAME)\n",
    "    print(MODEL_NAME)"
   ]
  },
  {
   "cell_type": "markdown",
   "metadata": {},
   "source": [
    "Now, let's split out training and validation:"
   ]
  },
  {
   "cell_type": "code",
   "execution_count": 10,
   "metadata": {},
   "outputs": [],
   "source": [
    "train = train_data[:-1000] # 24000 datas for traing the model\n",
    "valid = train_data[-1000:] #1000 data for validation"
   ]
  },
  {
   "cell_type": "markdown",
   "metadata": {},
   "source": [
    "Now, the training data and validation data are both labeled datasets.\n",
    "Next, we're going to create our data arrays."
   ]
  },
  {
   "cell_type": "code",
   "execution_count": 11,
   "metadata": {},
   "outputs": [],
   "source": [
    "X = np.array([i[0] for i in train]).reshape(-1,IMG_SIZE,IMG_SIZE,1)\n",
    "Y = [i[1] for i in train]\n",
    "\n",
    "valid_x = np.array([i[0] for i in valid]).reshape(-1,IMG_SIZE,IMG_SIZE,1)\n",
    "valid_y = [i[1] for i in valid]"
   ]
  },
  {
   "cell_type": "markdown",
   "metadata": {},
   "source": [
    "Now we fit for 3 epochs:"
   ]
  },
  {
   "cell_type": "code",
   "execution_count": 12,
   "metadata": {},
   "outputs": [
    {
     "name": "stdout",
     "output_type": "stream",
     "text": [
      "Training Step: 1124  | total loss: \u001b[1m\u001b[32m11.35819\u001b[0m\u001b[0m | time: 76.741s\n",
      "| Adam | epoch: 003 | loss: 11.35819 - acc: 0.5067 -- iter: 23936/24000\n",
      "Training Step: 1125  | total loss: \u001b[1m\u001b[32m11.37367\u001b[0m\u001b[0m | time: 77.962s\n",
      "| Adam | epoch: 003 | loss: 11.37367 - acc: 0.5060 | val_loss: 11.67411 - val_acc: 0.4930 -- iter: 24000/24000\n",
      "--\n"
     ]
    }
   ],
   "source": [
    "model.fit({'input': X}, {'targets': Y}, n_epoch=3, validation_set=({'input': valid_x}, {'targets': valid_y}), \n",
    "    snapshot_step=1000, show_metric=True, run_id=MODEL_NAME)"
   ]
  },
  {
   "cell_type": "markdown",
   "metadata": {},
   "source": [
    "## A bigger network , (more layers)\n"
   ]
  },
  {
   "cell_type": "code",
   "execution_count": 13,
   "metadata": {},
   "outputs": [],
   "source": [
    "import tensorflow as tf\n",
    "tf.reset_default_graph()"
   ]
  },
  {
   "cell_type": "code",
   "execution_count": 14,
   "metadata": {},
   "outputs": [],
   "source": [
    "convnet_input = input_data(shape=[None, IMG_SIZE, IMG_SIZE, 1], name='input')\n",
    "\n",
    "convnet_1 = conv_2d(convnet_input, 32, 5, activation='relu')\n",
    "convnet_layer1 = max_pool_2d(convnet_1, 5)\n",
    "\n",
    "convnet_2 = conv_2d(convnet_layer1, 64, 5, activation='relu')\n",
    "convnet_layer2 = max_pool_2d(convnet_2, 5)\n",
    "\n",
    "convnet_3 = conv_2d(convnet_layer2, 128, 5, activation='relu')\n",
    "convnet_layer3 = max_pool_2d(convnet_3, 5)\n",
    "\n",
    "convnet_4 = conv_2d(convnet_layer3, 64, 5, activation='relu')\n",
    "convnet_layer4 = max_pool_2d(convnet_4, 5)\n",
    "\n",
    "convnet_5 = conv_2d(convnet_layer4, 32, 5, activation='relu')\n",
    "convnet_layer5 = max_pool_2d(convnet_5, 5)\n",
    "\n",
    "convnet_full_1 = fully_connected(convnet_layer5, 1024, activation='relu')\n",
    "convnet_full_1_out = dropout(convnet_full_1, 0.8)\n",
    "\n",
    "convnet_full_2 = fully_connected(convnet_full_1_out, 2, activation='softmax')\n",
    "convnet_out = regression(convnet_full_2, optimizer='adam', learning_rate=LR, loss='categorical_crossentropy', name='targets')\n"
   ]
  },
  {
   "cell_type": "code",
   "execution_count": 15,
   "metadata": {},
   "outputs": [],
   "source": [
    "model = tflearn.DNN(convnet_out, tensorboard_dir='log')"
   ]
  },
  {
   "cell_type": "code",
   "execution_count": 16,
   "metadata": {},
   "outputs": [],
   "source": [
    "if os.path.exists('{}.meta'.format(MODEL_NAME)):\n",
    "    model.load(MODEL_NAME)\n",
    "    print('model loaded!')"
   ]
  },
  {
   "cell_type": "code",
   "execution_count": 17,
   "metadata": {},
   "outputs": [
    {
     "name": "stdout",
     "output_type": "stream",
     "text": [
      "Training Step: 1124  | total loss: \u001b[1m\u001b[32m0.69302\u001b[0m\u001b[0m | time: 90.867s\n",
      "| Adam | epoch: 003 | loss: 0.69302 - acc: 0.5168 -- iter: 23936/24000\n",
      "Training Step: 1125  | total loss: \u001b[1m\u001b[32m0.69308\u001b[0m\u001b[0m | time: 92.366s\n",
      "| Adam | epoch: 003 | loss: 0.69308 - acc: 0.5120 | val_loss: 0.69308 - val_acc: 0.5070 -- iter: 24000/24000\n",
      "--\n"
     ]
    }
   ],
   "source": [
    "train = train_data[:-1000]\n",
    "valid = train_data[-1000:]\n",
    "\n",
    "X = np.array([i[0] for i in train]).reshape(-1,IMG_SIZE,IMG_SIZE,1)\n",
    "Y = [i[1] for i in train]\n",
    "\n",
    "valid_x = np.array([i[0] for i in valid]).reshape(-1,IMG_SIZE,IMG_SIZE,1)\n",
    "valid_y = [i[1] for i in valid]\n",
    "\n",
    "model.fit({'input': X}, {'targets': Y}, n_epoch=3, validation_set=({'input': valid_x}, {'targets': valid_y}), \n",
    "    snapshot_step=1000, show_metric=True, run_id=MODEL_NAME)"
   ]
  },
  {
   "cell_type": "markdown",
   "metadata": {},
   "source": [
    "With neural networks, size matters a ton. \n",
    "\n",
    "Save it."
   ]
  },
  {
   "cell_type": "code",
   "execution_count": 18,
   "metadata": {},
   "outputs": [
    {
     "name": "stdout",
     "output_type": "stream",
     "text": [
      "INFO:tensorflow:/home/mele/PycharmProjects/gender_classification_convnet/gender_classification.model is not in all_model_checkpoint_paths. Manually adding it.\n"
     ]
    }
   ],
   "source": [
    "model.save(MODEL_NAME)"
   ]
  },
  {
   "cell_type": "code",
   "execution_count": 19,
   "metadata": {},
   "outputs": [
    {
     "name": "stdout",
     "output_type": "stream",
     "text": [
      "Training Step: 4874  | total loss: \u001b[1m\u001b[32m0.69308\u001b[0m\u001b[0m | time: 111.364s\n",
      "| Adam | epoch: 013 | loss: 0.69308 - acc: 0.5103 -- iter: 23936/24000\n",
      "Training Step: 4875  | total loss: \u001b[1m\u001b[32m0.69311\u001b[0m\u001b[0m | time: 112.678s\n",
      "| Adam | epoch: 013 | loss: 0.69311 - acc: 0.5077 | val_loss: 0.69307 - val_acc: 0.5070 -- iter: 24000/24000\n",
      "--\n",
      "INFO:tensorflow:/home/mele/PycharmProjects/gender_classification_convnet/gender_classification.model is not in all_model_checkpoint_paths. Manually adding it.\n"
     ]
    }
   ],
   "source": [
    "if os.path.exists('/home/mele/PycharmProjects/gender_classification_convnet/{}.meta'.format(MODEL_NAME)):\n",
    "    model.load(MODEL_NAME)\n",
    "    print('model loaded!')\n",
    "\n",
    "train = train_data[:-1000]\n",
    "test = train_data[-1000:]\n",
    "\n",
    "X = np.array([i[0] for i in train]).reshape(-1,IMG_SIZE,IMG_SIZE,1)\n",
    "Y = [i[1] for i in train]\n",
    "\n",
    "test_x = np.array([i[0] for i in test]).reshape(-1,IMG_SIZE,IMG_SIZE,1)\n",
    "test_y = [i[1] for i in test]\n",
    "\n",
    "model.fit({'input': X}, {'targets': Y}, n_epoch=10, validation_set=({'input': test_x}, {'targets': test_y}), \n",
    "    snapshot_step=1000, show_metric=True, run_id=MODEL_NAME)\n",
    "\n",
    "model.save(MODEL_NAME)"
   ]
  },
  {
   "cell_type": "code",
   "execution_count": 24,
   "metadata": {},
   "outputs": [],
   "source": [
    "import tensorflow as tf\n",
    "tf.reset_default_graph()"
   ]
  },
  {
   "cell_type": "code",
   "execution_count": 25,
   "metadata": {},
   "outputs": [],
   "source": [
    "convnet = input_data(shape=[None, IMG_SIZE, IMG_SIZE, 1], name='input')\n",
    "\n",
    "convnet = conv_2d(convnet, 32, 5, activation='relu')\n",
    "convnet = max_pool_2d(convnet, 5)\n",
    "\n",
    "convnet = conv_2d(convnet, 64, 5, activation='relu')\n",
    "convnet = max_pool_2d(convnet, 5)\n",
    "\n",
    "convnet = conv_2d(convnet, 128, 5, activation='relu')\n",
    "convnet = max_pool_2d(convnet, 5)\n",
    "\n",
    "convnet = conv_2d(convnet, 256, 5, activation='relu')\n",
    "convnet = max_pool_2d(convnet, 5)\n",
    "\n",
    "convnet = conv_2d(convnet, 128, 5, activation='relu')\n",
    "convnet = max_pool_2d(convnet, 5)\n",
    "\n",
    "convnet = conv_2d(convnet, 64, 5, activation='relu')\n",
    "convnet = max_pool_2d(convnet, 5)\n",
    "\n",
    "convnet = conv_2d(convnet, 32, 5, activation='relu')\n",
    "convnet = max_pool_2d(convnet, 5)\n",
    "\n",
    "convnet = fully_connected(convnet, 1024, activation='relu')\n",
    "convnet = dropout(convnet, 0.8)\n",
    "\n",
    "convnet = fully_connected(convnet, 2, activation='softmax')\n",
    "convnet = regression(convnet, optimizer='adam', learning_rate=LR, loss='categorical_crossentropy', name='targets')\n",
    "\n",
    "model = tflearn.DNN(convnet, tensorboard_dir='log')\n"
   ]
  },
  {
   "cell_type": "code",
   "execution_count": 26,
   "metadata": {},
   "outputs": [
    {
     "name": "stdout",
     "output_type": "stream",
     "text": [
      "Training Step: 5624  | total loss: \u001b[1m\u001b[32m0.47527\u001b[0m\u001b[0m | time: 320.457s\n",
      "| Adam | epoch: 015 | loss: 0.47527 - acc: 0.7825 -- iter: 23936/24000\n",
      "Training Step: 5625  | total loss: \u001b[1m\u001b[32m0.48188\u001b[0m\u001b[0m | time: 323.097s\n",
      "| Adam | epoch: 015 | loss: 0.48188 - acc: 0.7777 | val_loss: 0.64091 - val_acc: 0.7000 -- iter: 24000/24000\n",
      "--\n",
      "INFO:tensorflow:/home/mele/PycharmProjects/gender_classification_convnet/gender_classification.model is not in all_model_checkpoint_paths. Manually adding it.\n"
     ]
    }
   ],
   "source": [
    "# if os.path.exists('/home/mele/PycharmProjects/gender_classification_convnet/{}.meta'.format(MODEL_NAME)):\n",
    "#     model.load(MODEL_NAME)\n",
    "#     print('model loaded!')\n",
    "\n",
    "train = train_data[:-1000]\n",
    "test = train_data[-1000:]\n",
    "\n",
    "X = np.array([i[0] for i in train]).reshape(-1,IMG_SIZE,IMG_SIZE,1)\n",
    "Y = [i[1] for i in train]\n",
    "\n",
    "test_x = np.array([i[0] for i in test]).reshape(-1,IMG_SIZE,IMG_SIZE,1)\n",
    "test_y = [i[1] for i in test]\n",
    "\n",
    "model.fit({'input': X}, {'targets': Y}, n_epoch=15, validation_set=({'input': test_x}, {'targets': test_y}), \n",
    "    snapshot_step=1000, show_metric=True, run_id=MODEL_NAME)\n",
    "\n",
    "model.save(MODEL_NAME)"
   ]
  },
  {
   "cell_type": "markdown",
   "metadata": {},
   "source": [
    "# Visually inspecting the data #\n"
   ]
  },
  {
   "cell_type": "code",
   "execution_count": 37,
   "metadata": {},
   "outputs": [
    {
     "data": {
      "image/png": "[encoded data removed]",
      "text/plain": [
       "<Figure size 432x288 with 24 Axes>"
      ]
     },
     "metadata": {},
     "output_type": "display_data"
    }
   ],
   "source": [
    "import matplotlib.pyplot as plt\n",
    "\n",
    "# if you need to create the data:\n",
    "# test_data = process_test_data()\n",
    "test_data = np.load('Image_dataset/gender_test_data.npy') # if you already have some saved:\n",
    "\n",
    "fig=plt.figure()\n",
    "\n",
    "for label,data in enumerate(test_data[:24]):\n",
    "    # female: [1,0]\n",
    "    # male: [0,1]\n",
    "    \n",
    "    img_label = data[1]\n",
    "    img_data = data[0]\n",
    "    \n",
    "    y = fig.add_subplot(4,6,label+1)\n",
    "    orig = img_data\n",
    "    data = img_data.reshape(IMG_SIZE,IMG_SIZE,1)\n",
    "    \n",
    "    model_out = model.predict([data])[0]\n",
    "    \n",
    "    if np.argmax(model_out) == 0: str_label='female'\n",
    "    else: str_label='male'\n",
    "        \n",
    "    y.imshow(orig,cmap='gray')\n",
    "    plt.title(str_label)\n",
    "    \n",
    "    y.axes.get_xaxis().set_visible(False)\n",
    "    y.axes.get_yaxis().set_visible(False)\n",
    "plt.show()"
   ]
  },
  {
   "cell_type": "code",
   "execution_count": 38,
   "metadata": {},
   "outputs": [
    {
     "name": "stderr",
     "output_type": "stream",
     "text": [
      "100%|██████████| 5000/5000 [00:24<00:00, 203.33it/s]\n"
     ]
    }
   ],
   "source": [
    "from tqdm import tqdm\n",
    "\n",
    "with open('submission_file.csv','w') as f:\n",
    "    f.write('id,label\\n')\n",
    "            \n",
    "with open('submission_file.csv','a') as f:\n",
    "    for data in tqdm(test_data):\n",
    "        img_num = data[1]\n",
    "        img_data = data[0]\n",
    "        orig = img_data\n",
    "        data = img_data.reshape(IMG_SIZE,IMG_SIZE,1)\n",
    "        model_out = model.predict([data])[0]\n",
    "        f.write('{},{}\\n'.format(img_num,model_out[1]))"
   ]
  }
 ],
 "metadata": {
  "kernelspec": {
   "display_name": "Python 3",
   "language": "python",
   "name": "python3"
  },
  "language_info": {
   "codemirror_mode": {
    "name": "ipython",
    "version": 3
   },
   "file_extension": ".py",
   "mimetype": "text/x-python",
   "name": "python",
   "nbconvert_exporter": "python",
   "pygments_lexer": "ipython3",
   "version": "3.5.2"
  }
 },
 "nbformat": 4,
 "nbformat_minor": 2
}
